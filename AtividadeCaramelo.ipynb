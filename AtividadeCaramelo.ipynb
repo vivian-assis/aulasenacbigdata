{
 "cells": [
  {
   "cell_type": "code",
   "execution_count": null,
   "metadata": {},
   "outputs": [],
   "source": [
    "import pandas as pd\n",
    "import matplotlib.pyplot as plt #biblioteca para plotar gráficos"
   ]
  },
  {
   "cell_type": "code",
   "execution_count": null,
   "metadata": {},
   "outputs": [],
   "source": [
    "df = pd.read_csv('CARAMELO.csv',  sep = ';')\n",
    "df['Valor de Venda'] = df['Valor de Venda'].str.replace(',','.').astype(float) #tratamento para transformar , em . e o dado como float"
   ]
  },
  {
   "cell_type": "code",
   "execution_count": null,
   "metadata": {},
   "outputs": [],
   "source": [
    "df.info()"
   ]
  },
  {
   "cell_type": "code",
   "execution_count": null,
   "metadata": {},
   "outputs": [],
   "source": [
    "df_cidades = df.groupby(['Estado Loja','Cidade Loja',])['Valor de Venda'].sum().reset_index()\n",
    "df_cidades"
   ]
  },
  {
   "cell_type": "code",
   "execution_count": null,
   "metadata": {},
   "outputs": [],
   "source": [
    "#Valor de venda por cidades do RJ\n",
    "df_RJ = df_cidades.loc[(df_cidades['Estado Loja']=='RJ')]\n",
    "df_RJ.sort_values(by='Valor de Venda',ascending=False)"
   ]
  },
  {
   "cell_type": "code",
   "execution_count": null,
   "metadata": {},
   "outputs": [],
   "source": [
    "#Vaor de vanda por cidade da loja\n",
    "df_cidade_loja = df.groupby(['Cidade Loja'])['Valor de Venda'].sum().reset_index()\n",
    "df_cidade_loja.sort_values(by='Valor de Venda',ascending=False)"
   ]
  },
  {
   "cell_type": "code",
   "execution_count": null,
   "metadata": {},
   "outputs": [],
   "source": [
    "#Media de venda por categoria de produto\n",
    "df_media_categoria = df.groupby('Categoria Produto')['Valor de Venda'].mean().reset_index()\n",
    "df_media_categoria.sort_values(by='Valor de Venda',ascending=False)"
   ]
  },
  {
   "cell_type": "code",
   "execution_count": null,
   "metadata": {},
   "outputs": [],
   "source": [
    "#Valor de venda de marcas que vendem produtos eletrônicos\n",
    "df_eletronico = df.loc[(df['Categoria Produto']=='Eletrônicos')]\n",
    "df_eletronico.sort_values(by='Valor de Venda',ascending=False)\n",
    "\n"
   ]
  },
  {
   "cell_type": "code",
   "execution_count": 59,
   "metadata": {},
   "outputs": [
    {
     "data": {
      "text/html": [
       "<div>\n",
       "<style scoped>\n",
       "    .dataframe tbody tr th:only-of-type {\n",
       "        vertical-align: middle;\n",
       "    }\n",
       "\n",
       "    .dataframe tbody tr th {\n",
       "        vertical-align: top;\n",
       "    }\n",
       "\n",
       "    .dataframe thead th {\n",
       "        text-align: right;\n",
       "    }\n",
       "</style>\n",
       "<table border=\"1\" class=\"dataframe\">\n",
       "  <thead>\n",
       "    <tr style=\"text-align: right;\">\n",
       "      <th></th>\n",
       "      <th>Marca</th>\n",
       "      <th>Valor de Venda</th>\n",
       "    </tr>\n",
       "  </thead>\n",
       "  <tbody>\n",
       "    <tr>\n",
       "      <th>0</th>\n",
       "      <td>Apple</td>\n",
       "      <td>29767990.28</td>\n",
       "    </tr>\n",
       "    <tr>\n",
       "      <th>2</th>\n",
       "      <td>HP</td>\n",
       "      <td>20096928.50</td>\n",
       "    </tr>\n",
       "    <tr>\n",
       "      <th>5</th>\n",
       "      <td>Sony</td>\n",
       "      <td>19789108.08</td>\n",
       "    </tr>\n",
       "    <tr>\n",
       "      <th>4</th>\n",
       "      <td>Microsoft</td>\n",
       "      <td>19517697.15</td>\n",
       "    </tr>\n",
       "    <tr>\n",
       "      <th>1</th>\n",
       "      <td>Dell</td>\n",
       "      <td>10127483.74</td>\n",
       "    </tr>\n",
       "    <tr>\n",
       "      <th>3</th>\n",
       "      <td>Lenovo</td>\n",
       "      <td>9886618.38</td>\n",
       "    </tr>\n",
       "  </tbody>\n",
       "</table>\n",
       "</div>"
      ],
      "text/plain": [
       "       Marca  Valor de Venda\n",
       "0      Apple     29767990.28\n",
       "2         HP     20096928.50\n",
       "5       Sony     19789108.08\n",
       "4  Microsoft     19517697.15\n",
       "1       Dell     10127483.74\n",
       "3     Lenovo      9886618.38"
      ]
     },
     "execution_count": 59,
     "metadata": {},
     "output_type": "execute_result"
    }
   ],
   "source": [
    "#Valor de venda de marcasque vendem produtos eletrônicos\n",
    "df_eletronico2 = df_eletronico.groupby('Marca')['Valor de Venda'].sum().reset_index().sort_values(by='Valor de Venda',ascending=False)\n",
    "df_eletronico2"
   ]
  },
  {
   "cell_type": "code",
   "execution_count": 67,
   "metadata": {},
   "outputs": [
    {
     "data": {
      "image/png": "[encoded data removed]",
      "text/plain": [
       "<Figure size 640x480 with 1 Axes>"
      ]
     },
     "metadata": {},
     "output_type": "display_data"
    }
   ],
   "source": [
    "#Plotando gráficos\n",
    "df_eletronico2.plot(kind = 'bar' , x= 'Marca', y= 'Valor de Venda') #chamando o data frame, definindo tipo de gráfico e os eixos\n",
    "plt.xlabel('Marcas Produto') #Título do eixo x\n",
    "plt.ylabel('Valor de Venda') #Título do eixo y\n",
    "plt.title('Valor de venda por marca') #Título do gráfico\n",
    "plt.show()"
   ]
  }
 ],
 "metadata": {
  "kernelspec": {
   "display_name": "Python 3",
   "language": "python",
   "name": "python3"
  },
  "language_info": {
   "codemirror_mode": {
    "name": "ipython",
    "version": 3
   },
   "file_extension": ".py",
   "mimetype": "text/x-python",
   "name": "python",
   "nbconvert_exporter": "python",
   "pygments_lexer": "ipython3",
   "version": "3.11.4"
  },
  "orig_nbformat": 4
 },
 "nbformat": 4,
 "nbformat_minor": 2
}
