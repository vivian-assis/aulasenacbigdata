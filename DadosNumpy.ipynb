{
 "cells": [
  {
   "cell_type": "code",
   "execution_count": 1,
   "metadata": {},
   "outputs": [],
   "source": [
    "import numpy as np   #Biblioteca específica para cálculos numéricos"
   ]
  },
  {
   "cell_type": "code",
   "execution_count": 2,
   "metadata": {},
   "outputs": [
    {
     "data": {
      "text/plain": [
       "[12, 15, 17, 20, 30, 25, 28, 22, 40, 35]"
      ]
     },
     "execution_count": 2,
     "metadata": {},
     "output_type": "execute_result"
    }
   ],
   "source": [
    "lista = [12,15,17,20,30,25,28,22,40,35]\n",
    "lista"
   ]
  },
  {
   "cell_type": "code",
   "execution_count": 6,
   "metadata": {},
   "outputs": [
    {
     "data": {
      "text/plain": [
       "array([12, 15, 17, 20, 22, 25, 28, 30, 35, 40])"
      ]
     },
     "execution_count": 6,
     "metadata": {},
     "output_type": "execute_result"
    }
   ],
   "source": [
    "dados = np.array(lista)  #função para transformar os dados em conjunto de dados (verificar)\n",
    "dados.sort()\n",
    "dados"
   ]
  },
  {
   "cell_type": "code",
   "execution_count": 7,
   "metadata": {},
   "outputs": [],
   "source": [
    "#divisão dos dados em porcentagens, para definir as linhas de corte dos quartis\n",
    "q1 = np.percentile(dados, 25)\n",
    "q2 = np.percentile(dados, 50)\n",
    "q3 = np.percentile(dados, 75)"
   ]
  },
  {
   "cell_type": "code",
   "execution_count": 8,
   "metadata": {},
   "outputs": [
    {
     "name": "stdout",
     "output_type": "stream",
     "text": [
      "Primeiro quartil (Q1): 17.75\n",
      "Segundo quartil (Q2): 23.5\n",
      "Terceiro quartil (Q3): 29.5\n"
     ]
    }
   ],
   "source": [
    "#Valores das linhas de corte dos quartis não são valores exatos contidos nos dados, e sim os percentuais calculados em cima dos valores dos dados\n",
    "print(f'Primeiro quartil (Q1): {q1}')\n",
    "print(f'Segundo quartil (Q2): {q2}')\n",
    "print(f'Terceiro quartil (Q3): {q3}')\n"
   ]
  }
 ],
 "metadata": {
  "kernelspec": {
   "display_name": "Python 3",
   "language": "python",
   "name": "python3"
  },
  "language_info": {
   "codemirror_mode": {
    "name": "ipython",
    "version": 3
   },
   "file_extension": ".py",
   "mimetype": "text/x-python",
   "name": "python",
   "nbconvert_exporter": "python",
   "pygments_lexer": "ipython3",
   "version": "3.11.4"
  },
  "orig_nbformat": 4
 },
 "nbformat": 4,
 "nbformat_minor": 2
}
