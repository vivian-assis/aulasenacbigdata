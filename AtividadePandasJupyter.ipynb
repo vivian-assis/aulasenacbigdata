{
 "cells": [
  {
   "cell_type": "code",
   "execution_count": 1,
   "metadata": {},
   "outputs": [],
   "source": [
    "import pandas as pd\n"
   ]
  },
  {
   "cell_type": "code",
   "execution_count": 3,
   "metadata": {},
   "outputs": [
    {
     "name": "stdout",
     "output_type": "stream",
     "text": [
      "float64\n"
     ]
    }
   ],
   "source": [
    "df = pd.read_csv('2º_2024.csv',sep=';')\n",
    "df['Valor de Venda'] = df['Valor de Venda'].str.replace(',','.').astype(float)\n",
    "print(df['Valor de Venda'].dtype)"
   ]
  },
  {
   "cell_type": "code",
   "execution_count": 13,
   "metadata": {},
   "outputs": [],
   "source": [
    "#ETANOL\n",
    "df_ETANOL = df.loc[(df['Municipio']== 'RIO DE JANEIRO') & (df['Produto'] == 'ETANOL')]\n",
    "df_GASOLINA = df.loc[(df['Municipio']== 'RIO DE JANEIRO') & (df['Produto'] == 'ETANOL')]\n",
    "df_DIESEL = df.loc[(df['Municipio']== 'RIO DE JANEIRO') & (df['Produto'] == 'ETANOL')]\n"
   ]
  },
  {
   "cell_type": "code",
   "execution_count": 28,
   "metadata": {},
   "outputs": [
    {
     "data": {
      "text/plain": [
       "Bairro\n",
       "ROCHA             3.934444\n",
       "JARDIM SULACAP    3.950000\n",
       "JACARE            3.990000\n",
       "IRAJA             3.990000\n",
       "RIO COMPRIDO      4.000000\n",
       "Name: Valor de Venda, dtype: float64"
      ]
     },
     "execution_count": 28,
     "metadata": {},
     "output_type": "execute_result"
    }
   ],
   "source": [
    "df_ET_med= df_ETANOL.groupby('Bairro')['Valor de Venda'].mean().reset_index().reset_index()\n",
    "df_ET_med.sort_values(by='Valor de Venda',ascending=False).head(5)\n",
    "\n"
   ]
  },
  {
   "cell_type": "code",
   "execution_count": 37,
   "metadata": {},
   "outputs": [
    {
     "data": {
      "text/html": [
       "<div>\n",
       "<style scoped>\n",
       "    .dataframe tbody tr th:only-of-type {\n",
       "        vertical-align: middle;\n",
       "    }\n",
       "\n",
       "    .dataframe tbody tr th {\n",
       "        vertical-align: top;\n",
       "    }\n",
       "\n",
       "    .dataframe thead th {\n",
       "        text-align: right;\n",
       "    }\n",
       "</style>\n",
       "<table border=\"1\" class=\"dataframe\">\n",
       "  <thead>\n",
       "    <tr style=\"text-align: right;\">\n",
       "      <th></th>\n",
       "      <th>Bairro</th>\n",
       "      <th>Valor de Venda</th>\n",
       "    </tr>\n",
       "  </thead>\n",
       "  <tbody>\n",
       "    <tr>\n",
       "      <th>48</th>\n",
       "      <td>RIO COMPRIDO</td>\n",
       "      <td>4.000000</td>\n",
       "    </tr>\n",
       "    <tr>\n",
       "      <th>23</th>\n",
       "      <td>IRAJA</td>\n",
       "      <td>3.990000</td>\n",
       "    </tr>\n",
       "    <tr>\n",
       "      <th>25</th>\n",
       "      <td>JACARE</td>\n",
       "      <td>3.990000</td>\n",
       "    </tr>\n",
       "    <tr>\n",
       "      <th>29</th>\n",
       "      <td>JARDIM SULACAP</td>\n",
       "      <td>3.950000</td>\n",
       "    </tr>\n",
       "    <tr>\n",
       "      <th>49</th>\n",
       "      <td>ROCHA</td>\n",
       "      <td>3.934444</td>\n",
       "    </tr>\n",
       "  </tbody>\n",
       "</table>\n",
       "</div>"
      ],
      "text/plain": [
       "            Bairro  Valor de Venda\n",
       "48    RIO COMPRIDO        4.000000\n",
       "23           IRAJA        3.990000\n",
       "25          JACARE        3.990000\n",
       "29  JARDIM SULACAP        3.950000\n",
       "49           ROCHA        3.934444"
      ]
     },
     "execution_count": 37,
     "metadata": {},
     "output_type": "execute_result"
    }
   ],
   "source": [
    "df_ET_med= df_ETANOL.groupby('Bairro')['Valor de Venda'].mean().reset_index().reset_index()\n",
    "df_ET_med.sort_values(by='Valor de Venda',ascending=False).tail(5)"
   ]
  },
  {
   "cell_type": "code",
   "execution_count": 29,
   "metadata": {},
   "outputs": [
    {
     "data": {
      "text/plain": [
       "Bairro\n",
       "ROCHA             3.934444\n",
       "JARDIM SULACAP    3.950000\n",
       "JACARE            3.990000\n",
       "IRAJA             3.990000\n",
       "RIO COMPRIDO      4.000000\n",
       "Name: Valor de Venda, dtype: float64"
      ]
     },
     "execution_count": 29,
     "metadata": {},
     "output_type": "execute_result"
    }
   ],
   "source": [
    "df_GS_med= df_GASOLINA.groupby('Bairro')['Valor de Venda'].mean().reset_index()\n",
    "df_GS_med.sort_values(by='Valor de Venda',ascending=False).head(5)"
   ]
  },
  {
   "cell_type": "code",
   "execution_count": 30,
   "metadata": {},
   "outputs": [
    {
     "data": {
      "text/plain": [
       "Bairro\n",
       "GLORIA             4.690000\n",
       "LAGOA              4.823333\n",
       "JARDIM BOTANICO    4.838750\n",
       "VARGEM PEQUENA     5.067778\n",
       "FLAMENGO           5.689286\n",
       "Name: Valor de Venda, dtype: float64"
      ]
     },
     "execution_count": 30,
     "metadata": {},
     "output_type": "execute_result"
    }
   ],
   "source": [
    "df_GS_med= df_GASOLINA.groupby('Bairro')['Valor de Venda'].mean().reset_index()\n",
    "df_GS_med.sort_values(by='Valor de Venda',ascending=False).tail(5)"
   ]
  },
  {
   "cell_type": "code",
   "execution_count": 31,
   "metadata": {},
   "outputs": [
    {
     "data": {
      "text/plain": [
       "Bairro\n",
       "ROCHA             3.934444\n",
       "JARDIM SULACAP    3.950000\n",
       "JACARE            3.990000\n",
       "IRAJA             3.990000\n",
       "RIO COMPRIDO      4.000000\n",
       "Name: Valor de Venda, dtype: float64"
      ]
     },
     "execution_count": 31,
     "metadata": {},
     "output_type": "execute_result"
    }
   ],
   "source": [
    "df_DS_med= df_DIESEL.groupby('Bairro')['Valor de Venda'].mean().reset_index()\n",
    "df_DS_med.sort_values(by='Valor de Venda',ascending=False).head(5)"
   ]
  },
  {
   "cell_type": "code",
   "execution_count": 32,
   "metadata": {},
   "outputs": [
    {
     "data": {
      "text/plain": [
       "Bairro\n",
       "GLORIA             4.690000\n",
       "LAGOA              4.823333\n",
       "JARDIM BOTANICO    4.838750\n",
       "VARGEM PEQUENA     5.067778\n",
       "FLAMENGO           5.689286\n",
       "Name: Valor de Venda, dtype: float64"
      ]
     },
     "execution_count": 32,
     "metadata": {},
     "output_type": "execute_result"
    }
   ],
   "source": [
    "df_DS_med= df_DIESEL.groupby('Bairro')['Valor de Venda'].mean().reset_index()\n",
    "df_DS_med.sort_values(by='Valor de Venda',ascending=False).tail(5)"
   ]
  }
 ],
 "metadata": {
  "kernelspec": {
   "display_name": "Python 3",
   "language": "python",
   "name": "python3"
  },
  "language_info": {
   "codemirror_mode": {
    "name": "ipython",
    "version": 3
   },
   "file_extension": ".py",
   "mimetype": "text/x-python",
   "name": "python",
   "nbconvert_exporter": "python",
   "pygments_lexer": "ipython3",
   "version": "3.11.4"
  },
  "orig_nbformat": 4
 },
 "nbformat": 4,
 "nbformat_minor": 2
}
