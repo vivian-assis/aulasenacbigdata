{
 "cells": [
  {
   "cell_type": "code",
   "execution_count": 73,
   "metadata": {},
   "outputs": [],
   "source": [
    "import pandas as pd\n",
    "import numpy as np\n",
    "from datetime import datetime, timedelta"
   ]
  },
  {
   "cell_type": "code",
   "execution_count": null,
   "metadata": {},
   "outputs": [],
   "source": [
    "#Tarefas com Python\n",
    "# Tratar os dados e calcular o tempo de espera\n",
    "# Identificar outliers usando quartis (Q1, Q2, Q3)\n",
    "# Comparar média e mediana por especialidade, médico e clínica\n",
    "# Explorar correlações entre tempo de espera e nota de satisfação"
   ]
  },
  {
   "cell_type": "code",
   "execution_count": 96,
   "metadata": {},
   "outputs": [],
   "source": [
    "df_consultas = pd.read_csv('consultas.csv', sep = ',')"
   ]
  },
  {
   "cell_type": "code",
   "execution_count": 97,
   "metadata": {},
   "outputs": [
    {
     "name": "stdout",
     "output_type": "stream",
     "text": [
      "<class 'pandas.core.frame.DataFrame'>\n",
      "RangeIndex: 5000 entries, 0 to 4999\n",
      "Data columns (total 8 columns):\n",
      " #   Column              Non-Null Count  Dtype \n",
      "---  ------              --------------  ----- \n",
      " 0   id_consulta         5000 non-null   int64 \n",
      " 1   id_paciente         5000 non-null   int64 \n",
      " 2   id_medico           5000 non-null   int64 \n",
      " 3   id_clinica          5000 non-null   int64 \n",
      " 4   especialidade       5000 non-null   object\n",
      " 5   data_hora_agendada  5000 non-null   object\n",
      " 6   data_hora_inicio    5000 non-null   object\n",
      " 7   status              5000 non-null   object\n",
      "dtypes: int64(4), object(4)\n",
      "memory usage: 312.6+ KB\n"
     ]
    }
   ],
   "source": [
    "df_consultas.info()"
   ]
  },
  {
   "cell_type": "code",
   "execution_count": 76,
   "metadata": {},
   "outputs": [],
   "source": [
    "#Tratamento Data e Hora#\n",
    "#converter colunas para data#\n",
    "df_consultas['data_hora_agendada']= pd.to_datetime(df_consultas['data_hora_agendada'])\n",
    "df_consultas['data_hora_inicio']= pd.to_datetime(df_consultas['data_hora_inicio'])\n",
    "#df_consultas['hora_agendada']= df_consultas['data_hora_agendada'].dt.hour()\n",
    "#df_consultas['hora_inicio']= df_consultas['data_hora_inicio'].dt.hour()\n"
   ]
  },
  {
   "cell_type": "code",
   "execution_count": 77,
   "metadata": {},
   "outputs": [],
   "source": [
    "df_consultas['intervalo'] = (df_consultas['data_hora_inicio']) - (df_consultas['data_hora_agendada'])\n"
   ]
  },
  {
   "cell_type": "code",
   "execution_count": 78,
   "metadata": {},
   "outputs": [
    {
     "name": "stdout",
     "output_type": "stream",
     "text": [
      "<class 'pandas.core.frame.DataFrame'>\n",
      "RangeIndex: 5000 entries, 0 to 4999\n",
      "Data columns (total 9 columns):\n",
      " #   Column              Non-Null Count  Dtype          \n",
      "---  ------              --------------  -----          \n",
      " 0   id_consulta         5000 non-null   int64          \n",
      " 1   id_paciente         5000 non-null   int64          \n",
      " 2   id_medico           5000 non-null   int64          \n",
      " 3   id_clinica          5000 non-null   int64          \n",
      " 4   especialidade       5000 non-null   object         \n",
      " 5   data_hora_agendada  5000 non-null   datetime64[ns] \n",
      " 6   data_hora_inicio    5000 non-null   datetime64[ns] \n",
      " 7   status              5000 non-null   object         \n",
      " 8   intervalo           5000 non-null   timedelta64[ns]\n",
      "dtypes: datetime64[ns](2), int64(4), object(2), timedelta64[ns](1)\n",
      "memory usage: 351.7+ KB\n"
     ]
    }
   ],
   "source": [
    "df_consultas.info()"
   ]
  },
  {
   "cell_type": "code",
   "execution_count": 79,
   "metadata": {},
   "outputs": [
    {
     "name": "stdout",
     "output_type": "stream",
     "text": [
      "<class 'pandas.core.frame.DataFrame'>\n",
      "RangeIndex: 5000 entries, 0 to 4999\n",
      "Data columns (total 13 columns):\n",
      " #   Column              Non-Null Count  Dtype          \n",
      "---  ------              --------------  -----          \n",
      " 0   id_consulta         5000 non-null   int64          \n",
      " 1   id_paciente         5000 non-null   int64          \n",
      " 2   id_medico           5000 non-null   int64          \n",
      " 3   id_clinica          5000 non-null   int64          \n",
      " 4   especialidade       5000 non-null   object         \n",
      " 5   data_hora_agendada  5000 non-null   datetime64[ns] \n",
      " 6   data_hora_inicio    5000 non-null   datetime64[ns] \n",
      " 7   status              5000 non-null   object         \n",
      " 8   intervalo           5000 non-null   timedelta64[ns]\n",
      " 9   tempo_espera        5000 non-null   object         \n",
      " 10  hora_espera         5000 non-null   int64          \n",
      " 11  minutos_espera      5000 non-null   int64          \n",
      " 12  espera_calc         5000 non-null   int64          \n",
      "dtypes: datetime64[ns](2), int64(7), object(3), timedelta64[ns](1)\n",
      "memory usage: 507.9+ KB\n"
     ]
    }
   ],
   "source": [
    "#transformar intervalo em string\n",
    "df_consultas['tempo_espera']= df_consultas['intervalo'].astype(str)\n",
    "#separar dias\n",
    "#df_consultas['dias_espera'] = df_consultas['tempo_espera'].str[0:7]\n",
    "#separar hora e transformar em inteiro\n",
    "df_consultas['hora_espera'] = df_consultas['tempo_espera'].str[7:9]\n",
    "df_consultas['hora_espera'] = df_consultas['hora_espera'].astype(int)\n",
    "#separar minutos e transformar em inteiro\n",
    "df_consultas['minutos_espera'] = df_consultas['tempo_espera'].str[10:12]\n",
    "df_consultas['minutos_espera'] = df_consultas['minutos_espera'].astype(int)\n",
    "#transformar dados em inteiros e horas em minutos\n",
    "df_consultas['espera_calc'] = (df_consultas['hora_espera'] * 60)+(df_consultas['minutos_espera'])\n",
    "\n",
    "df_consultas.info()"
   ]
  },
  {
   "cell_type": "code",
   "execution_count": 80,
   "metadata": {},
   "outputs": [
    {
     "name": "stdout",
     "output_type": "stream",
     "text": [
      "MÉDIA = 95.52\n",
      "MEDIANA = 30.00\n",
      "DISTÂNCIA = 2.18\n"
     ]
    }
   ],
   "source": [
    "#ARRAY + MÉDIA, MEDIANA E DISTÂNIA DO ROUBO DE VEÍCULOS\n",
    "array_tp_esp = np.array(df_consultas['espera_calc'])\n",
    "media_tp_esp = np.mean(array_tp_esp)\n",
    "mediana_tp_esp = np.median(array_tp_esp)\n",
    "distancia_tp_esp = (media_tp_esp - mediana_tp_esp)/mediana_tp_esp\n",
    "print(f\"MÉDIA = {media_tp_esp:.2f}\\nMEDIANA = {mediana_tp_esp:.2f}\\nDISTÂNCIA = {distancia_tp_esp:.2f}\")\n",
    "\n"
   ]
  },
  {
   "cell_type": "code",
   "execution_count": 81,
   "metadata": {},
   "outputs": [
    {
     "name": "stdout",
     "output_type": "stream",
     "text": [
      "Q1=10.00\n",
      "Q2=30.00\n",
      "Q3=180.00\n",
      "IQR (Q3 - Q1): 170.00      \n",
      "Limite Superior: 435.00\n",
      "Limite Inferior: -245.00\n",
      "Mediana: 30.00 \n",
      "Média: 95.52\n"
     ]
    }
   ],
   "source": [
    "#q1, q2, q3, iqr, limite superior e inferior\n",
    "q1_tp_esp = np.percentile(array_tp_esp,25)\n",
    "q2_tp_esp = np.percentile(array_tp_esp,50)\n",
    "q3_tp_esp = np.percentile(array_tp_esp,75)\n",
    "iqr_tp_esp = q3_tp_esp - q1_tp_esp\n",
    "lim_sup_tp_esp = q3_tp_esp + (1.5*iqr_tp_esp)\n",
    "lim_inf_tp_esp = q1_tp_esp - (1.5*iqr_tp_esp)\n",
    "print(f\"Q1={q1_tp_esp:.2f}\\nQ2={q2_tp_esp:.2f}\\nQ3={q3_tp_esp:.2f}\")\n",
    "print(f\"IQR (Q3 - Q1): {iqr_tp_esp:.2f}\\\n",
    "      \\nLimite Superior: {lim_sup_tp_esp:.2f}\\nLimite Inferior: {lim_inf_tp_esp:.2f}\\nMediana: {mediana_tp_esp:.2f} \\nMédia: {media_tp_esp:.2f}\")\n"
   ]
  },
  {
   "cell_type": "code",
   "execution_count": 87,
   "metadata": {},
   "outputs": [],
   "source": [
    "df_muita_espera = df_consultas.loc[(df_consultas['espera_calc'] >= q3_tp_esp)].reset"
   ]
  },
  {
   "cell_type": "code",
   "execution_count": 100,
   "metadata": {},
   "outputs": [
    {
     "data": {
      "text/html": [
       "<div>\n",
       "<style scoped>\n",
       "    .dataframe tbody tr th:only-of-type {\n",
       "        vertical-align: middle;\n",
       "    }\n",
       "\n",
       "    .dataframe tbody tr th {\n",
       "        vertical-align: top;\n",
       "    }\n",
       "\n",
       "    .dataframe thead th {\n",
       "        text-align: right;\n",
       "    }\n",
       "</style>\n",
       "<table border=\"1\" class=\"dataframe\">\n",
       "  <thead>\n",
       "    <tr style=\"text-align: right;\">\n",
       "      <th></th>\n",
       "      <th>id_consulta</th>\n",
       "      <th>nota_satisfacao</th>\n",
       "      <th>comentario</th>\n",
       "    </tr>\n",
       "  </thead>\n",
       "  <tbody>\n",
       "    <tr>\n",
       "      <th>0</th>\n",
       "      <td>697</td>\n",
       "      <td>4</td>\n",
       "      <td>Comentário 1</td>\n",
       "    </tr>\n",
       "    <tr>\n",
       "      <th>1</th>\n",
       "      <td>34</td>\n",
       "      <td>1</td>\n",
       "      <td>Comentário 2</td>\n",
       "    </tr>\n",
       "    <tr>\n",
       "      <th>2</th>\n",
       "      <td>9</td>\n",
       "      <td>4</td>\n",
       "      <td>Comentário 3</td>\n",
       "    </tr>\n",
       "    <tr>\n",
       "      <th>3</th>\n",
       "      <td>1254</td>\n",
       "      <td>1</td>\n",
       "      <td>Comentário 4</td>\n",
       "    </tr>\n",
       "    <tr>\n",
       "      <th>4</th>\n",
       "      <td>4180</td>\n",
       "      <td>4</td>\n",
       "      <td>Comentário 5</td>\n",
       "    </tr>\n",
       "    <tr>\n",
       "      <th>...</th>\n",
       "      <td>...</td>\n",
       "      <td>...</td>\n",
       "      <td>...</td>\n",
       "    </tr>\n",
       "    <tr>\n",
       "      <th>95</th>\n",
       "      <td>4880</td>\n",
       "      <td>2</td>\n",
       "      <td>Comentário 96</td>\n",
       "    </tr>\n",
       "    <tr>\n",
       "      <th>96</th>\n",
       "      <td>85</td>\n",
       "      <td>1</td>\n",
       "      <td>Comentário 97</td>\n",
       "    </tr>\n",
       "    <tr>\n",
       "      <th>97</th>\n",
       "      <td>1091</td>\n",
       "      <td>2</td>\n",
       "      <td>Comentário 98</td>\n",
       "    </tr>\n",
       "    <tr>\n",
       "      <th>98</th>\n",
       "      <td>1840</td>\n",
       "      <td>4</td>\n",
       "      <td>Comentário 99</td>\n",
       "    </tr>\n",
       "    <tr>\n",
       "      <th>99</th>\n",
       "      <td>585</td>\n",
       "      <td>1</td>\n",
       "      <td>Comentário 100</td>\n",
       "    </tr>\n",
       "  </tbody>\n",
       "</table>\n",
       "<p>100 rows × 3 columns</p>\n",
       "</div>"
      ],
      "text/plain": [
       "    id_consulta  nota_satisfacao      comentario\n",
       "0           697                4    Comentário 1\n",
       "1            34                1    Comentário 2\n",
       "2             9                4    Comentário 3\n",
       "3          1254                1    Comentário 4\n",
       "4          4180                4    Comentário 5\n",
       "..          ...              ...             ...\n",
       "95         4880                2   Comentário 96\n",
       "96           85                1   Comentário 97\n",
       "97         1091                2   Comentário 98\n",
       "98         1840                4   Comentário 99\n",
       "99          585                1  Comentário 100\n",
       "\n",
       "[100 rows x 3 columns]"
      ]
     },
     "execution_count": 100,
     "metadata": {},
     "output_type": "execute_result"
    }
   ],
   "source": [
    "df_avaliacoes = pd.read_csv('avaliacoes.csv', sep=',')\n",
    "df_avaliacoes"
   ]
  }
 ],
 "metadata": {
  "kernelspec": {
   "display_name": "Python 3",
   "language": "python",
   "name": "python3"
  },
  "language_info": {
   "codemirror_mode": {
    "name": "ipython",
    "version": 3
   },
   "file_extension": ".py",
   "mimetype": "text/x-python",
   "name": "python",
   "nbconvert_exporter": "python",
   "pygments_lexer": "ipython3",
   "version": "3.11.4"
  },
  "orig_nbformat": 4
 },
 "nbformat": 4,
 "nbformat_minor": 2
}
