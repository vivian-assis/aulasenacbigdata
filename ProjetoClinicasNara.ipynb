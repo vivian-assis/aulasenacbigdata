{
 "cells": [
  {
   "cell_type": "code",
   "execution_count": 267,
   "metadata": {},
   "outputs": [],
   "source": [
    "import pandas as pd\n",
    "import numpy as np\n",
    "from datetime import datetime, timedelta"
   ]
  },
  {
   "cell_type": "code",
   "execution_count": 268,
   "metadata": {},
   "outputs": [],
   "source": [
    "#Tarefas com Python\n",
    "# Tratar os dados e calcular o tempo de espera\n",
    "# Identificar outliers usando quartis (Q1, Q2, Q3)\n",
    "# Comparar média e mediana por especialidade, médico e clínica\n",
    "# Explorar correlações entre tempo de espera e nota de satisfação"
   ]
  },
  {
   "cell_type": "code",
   "execution_count": 269,
   "metadata": {},
   "outputs": [],
   "source": [
    "#ler csvs\n",
    "df_consultas = pd.read_csv('consultas_final(1).csv', sep = ',')\n",
    "df_avaliacoes = pd.read_csv('avaliacoes_final.csv', sep=',')\n",
    "df_pacientes = pd.read_csv('pacientes_final.csv', sep=',')\n",
    "df_medicos = pd.read_csv('medicos_final.csv', sep = ';')\n",
    "df_clinicas = pd.read_csv('clinicas_final.csv', sep = ',')\n"
   ]
  },
  {
   "cell_type": "markdown",
   "metadata": {},
   "source": [
    "CONSULTAS - TEMPO DE ESPERA"
   ]
  },
  {
   "cell_type": "code",
   "execution_count": 270,
   "metadata": {},
   "outputs": [
    {
     "data": {
      "text/html": [
       "<div>\n",
       "<style scoped>\n",
       "    .dataframe tbody tr th:only-of-type {\n",
       "        vertical-align: middle;\n",
       "    }\n",
       "\n",
       "    .dataframe tbody tr th {\n",
       "        vertical-align: top;\n",
       "    }\n",
       "\n",
       "    .dataframe thead th {\n",
       "        text-align: right;\n",
       "    }\n",
       "</style>\n",
       "<table border=\"1\" class=\"dataframe\">\n",
       "  <thead>\n",
       "    <tr style=\"text-align: right;\">\n",
       "      <th></th>\n",
       "      <th>id_consulta</th>\n",
       "      <th>id_paciente</th>\n",
       "      <th>id_medico</th>\n",
       "      <th>id_clinica</th>\n",
       "      <th>especialidade</th>\n",
       "      <th>data_hora_agendada</th>\n",
       "      <th>data_hora_inicio</th>\n",
       "      <th>status</th>\n",
       "    </tr>\n",
       "  </thead>\n",
       "  <tbody>\n",
       "    <tr>\n",
       "      <th>0</th>\n",
       "      <td>1</td>\n",
       "      <td>82</td>\n",
       "      <td>15</td>\n",
       "      <td>4</td>\n",
       "      <td>Cardiologia</td>\n",
       "      <td>2023-09-27 23:46</td>\n",
       "      <td>2023-09-28 00:16</td>\n",
       "      <td>Realizada</td>\n",
       "    </tr>\n",
       "    <tr>\n",
       "      <th>1</th>\n",
       "      <td>2</td>\n",
       "      <td>18</td>\n",
       "      <td>95</td>\n",
       "      <td>14</td>\n",
       "      <td>Cardiologia</td>\n",
       "      <td>2023-09-04 09:05</td>\n",
       "      <td>2023-09-04 13:05</td>\n",
       "      <td>Realizada</td>\n",
       "    </tr>\n",
       "    <tr>\n",
       "      <th>2</th>\n",
       "      <td>3</td>\n",
       "      <td>55</td>\n",
       "      <td>5</td>\n",
       "      <td>4</td>\n",
       "      <td>Pediatria</td>\n",
       "      <td>2023-02-04 02:43</td>\n",
       "      <td>2023-02-04 02:58</td>\n",
       "      <td>Realizada</td>\n",
       "    </tr>\n",
       "    <tr>\n",
       "      <th>3</th>\n",
       "      <td>4</td>\n",
       "      <td>78</td>\n",
       "      <td>4</td>\n",
       "      <td>72</td>\n",
       "      <td>Ortopedia</td>\n",
       "      <td>2023-03-14 09:28</td>\n",
       "      <td>2023-03-14 13:28</td>\n",
       "      <td>Realizada</td>\n",
       "    </tr>\n",
       "    <tr>\n",
       "      <th>4</th>\n",
       "      <td>5</td>\n",
       "      <td>58</td>\n",
       "      <td>76</td>\n",
       "      <td>36</td>\n",
       "      <td>Pediatria</td>\n",
       "      <td>2023-10-22 16:54</td>\n",
       "      <td>2023-10-22 16:54</td>\n",
       "      <td>Cancelada</td>\n",
       "    </tr>\n",
       "    <tr>\n",
       "      <th>...</th>\n",
       "      <td>...</td>\n",
       "      <td>...</td>\n",
       "      <td>...</td>\n",
       "      <td>...</td>\n",
       "      <td>...</td>\n",
       "      <td>...</td>\n",
       "      <td>...</td>\n",
       "      <td>...</td>\n",
       "    </tr>\n",
       "    <tr>\n",
       "      <th>4995</th>\n",
       "      <td>4996</td>\n",
       "      <td>27</td>\n",
       "      <td>27</td>\n",
       "      <td>93</td>\n",
       "      <td>Pediatria</td>\n",
       "      <td>2023-03-28 04:34</td>\n",
       "      <td>2023-03-28 05:34</td>\n",
       "      <td>Cancelada</td>\n",
       "    </tr>\n",
       "    <tr>\n",
       "      <th>4996</th>\n",
       "      <td>4997</td>\n",
       "      <td>17</td>\n",
       "      <td>26</td>\n",
       "      <td>8</td>\n",
       "      <td>Cardiologia</td>\n",
       "      <td>2023-12-06 12:39</td>\n",
       "      <td>2023-12-06 12:54</td>\n",
       "      <td>Realizada</td>\n",
       "    </tr>\n",
       "    <tr>\n",
       "      <th>4997</th>\n",
       "      <td>4998</td>\n",
       "      <td>60</td>\n",
       "      <td>39</td>\n",
       "      <td>34</td>\n",
       "      <td>Ortopedia</td>\n",
       "      <td>2023-11-06 11:27</td>\n",
       "      <td>2023-11-06 11:27</td>\n",
       "      <td>Realizada</td>\n",
       "    </tr>\n",
       "    <tr>\n",
       "      <th>4998</th>\n",
       "      <td>4999</td>\n",
       "      <td>65</td>\n",
       "      <td>7</td>\n",
       "      <td>98</td>\n",
       "      <td>Dermatologia</td>\n",
       "      <td>2023-10-07 20:19</td>\n",
       "      <td>2023-10-07 22:19</td>\n",
       "      <td>Realizada</td>\n",
       "    </tr>\n",
       "    <tr>\n",
       "      <th>4999</th>\n",
       "      <td>5000</td>\n",
       "      <td>65</td>\n",
       "      <td>93</td>\n",
       "      <td>78</td>\n",
       "      <td>Cardiologia</td>\n",
       "      <td>2023-07-23 07:16</td>\n",
       "      <td>2023-07-23 10:16</td>\n",
       "      <td>Remarcada</td>\n",
       "    </tr>\n",
       "  </tbody>\n",
       "</table>\n",
       "<p>5000 rows × 8 columns</p>\n",
       "</div>"
      ],
      "text/plain": [
       "      id_consulta  id_paciente  id_medico  id_clinica especialidade  \\\n",
       "0               1           82         15           4   Cardiologia   \n",
       "1               2           18         95          14   Cardiologia   \n",
       "2               3           55          5           4     Pediatria   \n",
       "3               4           78          4          72     Ortopedia   \n",
       "4               5           58         76          36     Pediatria   \n",
       "...           ...          ...        ...         ...           ...   \n",
       "4995         4996           27         27          93     Pediatria   \n",
       "4996         4997           17         26           8   Cardiologia   \n",
       "4997         4998           60         39          34     Ortopedia   \n",
       "4998         4999           65          7          98  Dermatologia   \n",
       "4999         5000           65         93          78   Cardiologia   \n",
       "\n",
       "     data_hora_agendada  data_hora_inicio     status  \n",
       "0      2023-09-27 23:46  2023-09-28 00:16  Realizada  \n",
       "1      2023-09-04 09:05  2023-09-04 13:05  Realizada  \n",
       "2      2023-02-04 02:43  2023-02-04 02:58  Realizada  \n",
       "3      2023-03-14 09:28  2023-03-14 13:28  Realizada  \n",
       "4      2023-10-22 16:54  2023-10-22 16:54  Cancelada  \n",
       "...                 ...               ...        ...  \n",
       "4995   2023-03-28 04:34  2023-03-28 05:34  Cancelada  \n",
       "4996   2023-12-06 12:39  2023-12-06 12:54  Realizada  \n",
       "4997   2023-11-06 11:27  2023-11-06 11:27  Realizada  \n",
       "4998   2023-10-07 20:19  2023-10-07 22:19  Realizada  \n",
       "4999   2023-07-23 07:16  2023-07-23 10:16  Remarcada  \n",
       "\n",
       "[5000 rows x 8 columns]"
      ]
     },
     "execution_count": 270,
     "metadata": {},
     "output_type": "execute_result"
    }
   ],
   "source": [
    "df_consultas"
   ]
  },
  {
   "cell_type": "code",
   "execution_count": 271,
   "metadata": {},
   "outputs": [
    {
     "name": "stdout",
     "output_type": "stream",
     "text": [
      "<class 'pandas.core.frame.DataFrame'>\n",
      "RangeIndex: 5000 entries, 0 to 4999\n",
      "Data columns (total 8 columns):\n",
      " #   Column              Non-Null Count  Dtype \n",
      "---  ------              --------------  ----- \n",
      " 0   id_consulta         5000 non-null   int64 \n",
      " 1   id_paciente         5000 non-null   int64 \n",
      " 2   id_medico           5000 non-null   int64 \n",
      " 3   id_clinica          5000 non-null   int64 \n",
      " 4   especialidade       5000 non-null   object\n",
      " 5   data_hora_agendada  5000 non-null   object\n",
      " 6   data_hora_inicio    5000 non-null   object\n",
      " 7   status              5000 non-null   object\n",
      "dtypes: int64(4), object(4)\n",
      "memory usage: 312.6+ KB\n"
     ]
    }
   ],
   "source": [
    "df_consultas.info()"
   ]
  },
  {
   "cell_type": "code",
   "execution_count": 272,
   "metadata": {},
   "outputs": [],
   "source": [
    "#Tratamento Data e Hora#\n",
    "#converter colunas para data#\n",
    "df_consultas['data_hora_agendada']= pd.to_datetime(df_consultas['data_hora_agendada'])\n",
    "df_consultas['data_hora_inicio']= pd.to_datetime(df_consultas['data_hora_inicio'])"
   ]
  },
  {
   "cell_type": "code",
   "execution_count": 273,
   "metadata": {},
   "outputs": [],
   "source": [
    "df_consultas['intervalo'] = (df_consultas['data_hora_inicio']) - (df_consultas['data_hora_agendada'])\n"
   ]
  },
  {
   "cell_type": "code",
   "execution_count": 274,
   "metadata": {},
   "outputs": [
    {
     "name": "stdout",
     "output_type": "stream",
     "text": [
      "<class 'pandas.core.frame.DataFrame'>\n",
      "RangeIndex: 5000 entries, 0 to 4999\n",
      "Data columns (total 9 columns):\n",
      " #   Column              Non-Null Count  Dtype          \n",
      "---  ------              --------------  -----          \n",
      " 0   id_consulta         5000 non-null   int64          \n",
      " 1   id_paciente         5000 non-null   int64          \n",
      " 2   id_medico           5000 non-null   int64          \n",
      " 3   id_clinica          5000 non-null   int64          \n",
      " 4   especialidade       5000 non-null   object         \n",
      " 5   data_hora_agendada  5000 non-null   datetime64[ns] \n",
      " 6   data_hora_inicio    5000 non-null   datetime64[ns] \n",
      " 7   status              5000 non-null   object         \n",
      " 8   intervalo           5000 non-null   timedelta64[ns]\n",
      "dtypes: datetime64[ns](2), int64(4), object(2), timedelta64[ns](1)\n",
      "memory usage: 351.7+ KB\n"
     ]
    }
   ],
   "source": [
    "df_consultas.info()"
   ]
  },
  {
   "cell_type": "code",
   "execution_count": 275,
   "metadata": {},
   "outputs": [
    {
     "data": {
      "text/html": [
       "<div>\n",
       "<style scoped>\n",
       "    .dataframe tbody tr th:only-of-type {\n",
       "        vertical-align: middle;\n",
       "    }\n",
       "\n",
       "    .dataframe tbody tr th {\n",
       "        vertical-align: top;\n",
       "    }\n",
       "\n",
       "    .dataframe thead th {\n",
       "        text-align: right;\n",
       "    }\n",
       "</style>\n",
       "<table border=\"1\" class=\"dataframe\">\n",
       "  <thead>\n",
       "    <tr style=\"text-align: right;\">\n",
       "      <th></th>\n",
       "      <th>id_consulta</th>\n",
       "      <th>id_paciente</th>\n",
       "      <th>id_medico</th>\n",
       "      <th>id_clinica</th>\n",
       "      <th>especialidade</th>\n",
       "      <th>data_hora_agendada</th>\n",
       "      <th>data_hora_inicio</th>\n",
       "      <th>status</th>\n",
       "      <th>intervalo</th>\n",
       "      <th>tempo_espera</th>\n",
       "      <th>hora_espera</th>\n",
       "      <th>minutos_espera</th>\n",
       "      <th>espera_calc</th>\n",
       "    </tr>\n",
       "  </thead>\n",
       "  <tbody>\n",
       "    <tr>\n",
       "      <th>0</th>\n",
       "      <td>1</td>\n",
       "      <td>82</td>\n",
       "      <td>15</td>\n",
       "      <td>4</td>\n",
       "      <td>Cardiologia</td>\n",
       "      <td>2023-09-27 23:46:00</td>\n",
       "      <td>2023-09-28 00:16:00</td>\n",
       "      <td>Realizada</td>\n",
       "      <td>0 days 00:30:00</td>\n",
       "      <td>0 days 00:30:00</td>\n",
       "      <td>0</td>\n",
       "      <td>30</td>\n",
       "      <td>30</td>\n",
       "    </tr>\n",
       "    <tr>\n",
       "      <th>1</th>\n",
       "      <td>2</td>\n",
       "      <td>18</td>\n",
       "      <td>95</td>\n",
       "      <td>14</td>\n",
       "      <td>Cardiologia</td>\n",
       "      <td>2023-09-04 09:05:00</td>\n",
       "      <td>2023-09-04 13:05:00</td>\n",
       "      <td>Realizada</td>\n",
       "      <td>0 days 04:00:00</td>\n",
       "      <td>0 days 04:00:00</td>\n",
       "      <td>4</td>\n",
       "      <td>0</td>\n",
       "      <td>240</td>\n",
       "    </tr>\n",
       "    <tr>\n",
       "      <th>2</th>\n",
       "      <td>3</td>\n",
       "      <td>55</td>\n",
       "      <td>5</td>\n",
       "      <td>4</td>\n",
       "      <td>Pediatria</td>\n",
       "      <td>2023-02-04 02:43:00</td>\n",
       "      <td>2023-02-04 02:58:00</td>\n",
       "      <td>Realizada</td>\n",
       "      <td>0 days 00:15:00</td>\n",
       "      <td>0 days 00:15:00</td>\n",
       "      <td>0</td>\n",
       "      <td>15</td>\n",
       "      <td>15</td>\n",
       "    </tr>\n",
       "    <tr>\n",
       "      <th>3</th>\n",
       "      <td>4</td>\n",
       "      <td>78</td>\n",
       "      <td>4</td>\n",
       "      <td>72</td>\n",
       "      <td>Ortopedia</td>\n",
       "      <td>2023-03-14 09:28:00</td>\n",
       "      <td>2023-03-14 13:28:00</td>\n",
       "      <td>Realizada</td>\n",
       "      <td>0 days 04:00:00</td>\n",
       "      <td>0 days 04:00:00</td>\n",
       "      <td>4</td>\n",
       "      <td>0</td>\n",
       "      <td>240</td>\n",
       "    </tr>\n",
       "    <tr>\n",
       "      <th>4</th>\n",
       "      <td>5</td>\n",
       "      <td>58</td>\n",
       "      <td>76</td>\n",
       "      <td>36</td>\n",
       "      <td>Pediatria</td>\n",
       "      <td>2023-10-22 16:54:00</td>\n",
       "      <td>2023-10-22 16:54:00</td>\n",
       "      <td>Cancelada</td>\n",
       "      <td>0 days 00:00:00</td>\n",
       "      <td>0 days 00:00:00</td>\n",
       "      <td>0</td>\n",
       "      <td>0</td>\n",
       "      <td>0</td>\n",
       "    </tr>\n",
       "  </tbody>\n",
       "</table>\n",
       "</div>"
      ],
      "text/plain": [
       "   id_consulta  id_paciente  id_medico  id_clinica especialidade  \\\n",
       "0            1           82         15           4   Cardiologia   \n",
       "1            2           18         95          14   Cardiologia   \n",
       "2            3           55          5           4     Pediatria   \n",
       "3            4           78          4          72     Ortopedia   \n",
       "4            5           58         76          36     Pediatria   \n",
       "\n",
       "   data_hora_agendada    data_hora_inicio     status       intervalo  \\\n",
       "0 2023-09-27 23:46:00 2023-09-28 00:16:00  Realizada 0 days 00:30:00   \n",
       "1 2023-09-04 09:05:00 2023-09-04 13:05:00  Realizada 0 days 04:00:00   \n",
       "2 2023-02-04 02:43:00 2023-02-04 02:58:00  Realizada 0 days 00:15:00   \n",
       "3 2023-03-14 09:28:00 2023-03-14 13:28:00  Realizada 0 days 04:00:00   \n",
       "4 2023-10-22 16:54:00 2023-10-22 16:54:00  Cancelada 0 days 00:00:00   \n",
       "\n",
       "      tempo_espera  hora_espera  minutos_espera  espera_calc  \n",
       "0  0 days 00:30:00            0              30           30  \n",
       "1  0 days 04:00:00            4               0          240  \n",
       "2  0 days 00:15:00            0              15           15  \n",
       "3  0 days 04:00:00            4               0          240  \n",
       "4  0 days 00:00:00            0               0            0  "
      ]
     },
     "execution_count": 275,
     "metadata": {},
     "output_type": "execute_result"
    }
   ],
   "source": [
    "#transformar intervalo em string\n",
    "df_consultas['tempo_espera']= df_consultas['intervalo'].astype(str)\n",
    "#separar dias\n",
    "#df_consultas['dias_espera'] = df_consultas_r['tempo_espera'].str[0:7]\n",
    "#separar hora e transformar em inteiro\n",
    "df_consultas['hora_espera'] = df_consultas['tempo_espera'].str[7:9]\n",
    "df_consultas['hora_espera'] = df_consultas['hora_espera'].astype(int)\n",
    "#separar minutos e transformar em inteiro\n",
    "df_consultas['minutos_espera'] = df_consultas['tempo_espera'].str[10:12]\n",
    "df_consultas['minutos_espera'] = df_consultas['minutos_espera'].astype(int)\n",
    "#transformar horas em minutos\n",
    "df_consultas['espera_calc'] = (df_consultas['hora_espera'] * 60)+(df_consultas['minutos_espera'])\n",
    "\n",
    "df_consultas.head(5)"
   ]
  },
  {
   "cell_type": "code",
   "execution_count": 276,
   "metadata": {},
   "outputs": [
    {
     "name": "stdout",
     "output_type": "stream",
     "text": [
      "MÉDIA = 95.52\n",
      "MEDIANA = 30.00\n",
      "DISTÂNCIA = 2.18\n"
     ]
    }
   ],
   "source": [
    "#ARRAY + MÉDIA, MEDIANA E DISTÂNIA TEMPO DE ESPERA\n",
    "array_tp_esp = np.array(df_consultas['espera_calc'])\n",
    "media_tp_esp = np.mean(array_tp_esp)\n",
    "mediana_tp_esp = np.median(array_tp_esp)\n",
    "distancia_tp_esp = (media_tp_esp - mediana_tp_esp)/mediana_tp_esp\n",
    "print(f\"MÉDIA = {media_tp_esp:.2f}\\nMEDIANA = {mediana_tp_esp:.2f}\\nDISTÂNCIA = {distancia_tp_esp:.2f}\")\n",
    "\n"
   ]
  },
  {
   "cell_type": "code",
   "execution_count": 277,
   "metadata": {},
   "outputs": [
    {
     "name": "stdout",
     "output_type": "stream",
     "text": [
      "Q1=10.00\n",
      "Q2=30.00\n",
      "Q3=180.00\n",
      "IQR (Q3 - Q1): 170.00      \n",
      "Limite Superior: 435.00\n",
      "Limite Inferior: -245.00\n",
      "Mediana: 30.00 \n",
      "Média: 95.52\n"
     ]
    }
   ],
   "source": [
    "#q1, q2, q3, iqr, limite superior e inferior TEMPO DE ESPERA\n",
    "q1_tp_esp = np.percentile(array_tp_esp,25)\n",
    "q2_tp_esp = np.percentile(array_tp_esp,50)\n",
    "q3_tp_esp = np.percentile(array_tp_esp,75)\n",
    "iqr_tp_esp = q3_tp_esp - q1_tp_esp\n",
    "lim_sup_tp_esp = q3_tp_esp + (1.5*iqr_tp_esp)\n",
    "lim_inf_tp_esp = q1_tp_esp - (1.5*iqr_tp_esp)\n",
    "print(f\"Q1={q1_tp_esp:.2f}\\nQ2={q2_tp_esp:.2f}\\nQ3={q3_tp_esp:.2f}\")\n",
    "print(f\"IQR (Q3 - Q1): {iqr_tp_esp:.2f}\\\n",
    "      \\nLimite Superior: {lim_sup_tp_esp:.2f}\\nLimite Inferior: {lim_inf_tp_esp:.2f}\\nMediana: {mediana_tp_esp:.2f} \\nMédia: {media_tp_esp:.2f}\")\n"
   ]
  },
  {
   "cell_type": "code",
   "execution_count": 278,
   "metadata": {},
   "outputs": [],
   "source": [
    "df_muita_espera = df_consultas.loc[(df_consultas['espera_calc'] >= q3_tp_esp)].reset_index()\n",
    "df_especialidade_muita_espera = df_muita_espera.groupby('especialidade')['espera_calc'].count().sort_values()\n"
   ]
  },
  {
   "cell_type": "code",
   "execution_count": 279,
   "metadata": {},
   "outputs": [
    {
     "data": {
      "text/plain": [
       "especialidade\n",
       "Dermatologia    145\n",
       "Neurologia      145\n",
       "Ginecologia     248\n",
       "Pediatria       297\n",
       "Cardiologia     328\n",
       "Ortopedia       329\n",
       "Name: espera_calc, dtype: int64"
      ]
     },
     "execution_count": 279,
     "metadata": {},
     "output_type": "execute_result"
    }
   ],
   "source": [
    "#ESPECIALIDADES COM TEMPO DE ESPERA ACIMA DE Q3\n",
    "df_especialidade_muita_espera"
   ]
  },
  {
   "cell_type": "markdown",
   "metadata": {},
   "source": [
    "AVALIAÇÕES"
   ]
  },
  {
   "cell_type": "code",
   "execution_count": 280,
   "metadata": {},
   "outputs": [
    {
     "data": {
      "text/html": [
       "<div>\n",
       "<style scoped>\n",
       "    .dataframe tbody tr th:only-of-type {\n",
       "        vertical-align: middle;\n",
       "    }\n",
       "\n",
       "    .dataframe tbody tr th {\n",
       "        vertical-align: top;\n",
       "    }\n",
       "\n",
       "    .dataframe thead th {\n",
       "        text-align: right;\n",
       "    }\n",
       "</style>\n",
       "<table border=\"1\" class=\"dataframe\">\n",
       "  <thead>\n",
       "    <tr style=\"text-align: right;\">\n",
       "      <th></th>\n",
       "      <th>id_consulta</th>\n",
       "      <th>nota_satisfacao</th>\n",
       "      <th>comentario</th>\n",
       "    </tr>\n",
       "  </thead>\n",
       "  <tbody>\n",
       "    <tr>\n",
       "      <th>0</th>\n",
       "      <td>697</td>\n",
       "      <td>4</td>\n",
       "      <td>Comentário 1</td>\n",
       "    </tr>\n",
       "    <tr>\n",
       "      <th>1</th>\n",
       "      <td>34</td>\n",
       "      <td>1</td>\n",
       "      <td>Comentário 2</td>\n",
       "    </tr>\n",
       "    <tr>\n",
       "      <th>2</th>\n",
       "      <td>9</td>\n",
       "      <td>4</td>\n",
       "      <td>Comentário 3</td>\n",
       "    </tr>\n",
       "    <tr>\n",
       "      <th>3</th>\n",
       "      <td>1254</td>\n",
       "      <td>1</td>\n",
       "      <td>Comentário 4</td>\n",
       "    </tr>\n",
       "    <tr>\n",
       "      <th>4</th>\n",
       "      <td>4180</td>\n",
       "      <td>4</td>\n",
       "      <td>Comentário 5</td>\n",
       "    </tr>\n",
       "  </tbody>\n",
       "</table>\n",
       "</div>"
      ],
      "text/plain": [
       "   id_consulta  nota_satisfacao    comentario\n",
       "0          697                4  Comentário 1\n",
       "1           34                1  Comentário 2\n",
       "2            9                4  Comentário 3\n",
       "3         1254                1  Comentário 4\n",
       "4         4180                4  Comentário 5"
      ]
     },
     "execution_count": 280,
     "metadata": {},
     "output_type": "execute_result"
    }
   ],
   "source": [
    "df_avaliacoes.head(5)"
   ]
  },
  {
   "cell_type": "code",
   "execution_count": 281,
   "metadata": {},
   "outputs": [
    {
     "name": "stdout",
     "output_type": "stream",
     "text": [
      "MÉDIA = 2.88\n",
      "MEDIANA = 3.00\n",
      "DISTÂNCIA = -0.04\n"
     ]
    }
   ],
   "source": [
    "#ARRAY + MÉDIA, MEDIANA E DISTÂNIA - AVALIAÇÕES\n",
    "array_aval = np.array(df_avaliacoes['nota_satisfacao'])\n",
    "media_aval = np.mean(array_aval)\n",
    "mediana_aval = np.median(array_aval)\n",
    "distancia_aval = (media_aval - mediana_aval)/mediana_aval\n",
    "print(f\"MÉDIA = {media_aval:.2f}\\nMEDIANA = {mediana_aval:.2f}\\nDISTÂNCIA = {distancia_aval:.2f}\")"
   ]
  },
  {
   "cell_type": "code",
   "execution_count": 282,
   "metadata": {},
   "outputs": [
    {
     "name": "stdout",
     "output_type": "stream",
     "text": [
      "Q1=2.00\n",
      "Q2=3.00\n",
      "Q3=4.00\n",
      "IQR (Q3 - Q1): 2.00      \n",
      "Limite Superior: 7.00\n",
      "Limite Inferior: -1.00\n",
      "Mediana: 3.00 \n",
      "Média: 2.88\n"
     ]
    }
   ],
   "source": [
    "#q1, q2, q3, iqr, limite superior e inferior AVALIAÇÕES\n",
    "q1_aval = np.percentile(array_aval,25)\n",
    "q2_aval = np.percentile(array_aval,50)\n",
    "q3_aval = np.percentile(array_aval,75)\n",
    "iqr_aval = q3_aval - q1_aval\n",
    "lim_sup_aval = q3_aval + (1.5*iqr_aval)\n",
    "lim_inf_aval = q1_aval - (1.5*iqr_aval)\n",
    "print(f\"Q1={q1_aval:.2f}\\nQ2={q2_aval:.2f}\\nQ3={q3_aval:.2f}\")\n",
    "print(f\"IQR (Q3 - Q1): {iqr_aval:.2f}\\\n",
    "      \\nLimite Superior: {lim_sup_aval:.2f}\\nLimite Inferior: {lim_inf_aval:.2f}\\nMediana: {mediana_aval:.2f} \\nMédia: {media_aval:.2f}\")"
   ]
  },
  {
   "cell_type": "markdown",
   "metadata": {},
   "source": [
    "PACIENTES"
   ]
  },
  {
   "cell_type": "code",
   "execution_count": 283,
   "metadata": {},
   "outputs": [
    {
     "data": {
      "text/html": [
       "<div>\n",
       "<style scoped>\n",
       "    .dataframe tbody tr th:only-of-type {\n",
       "        vertical-align: middle;\n",
       "    }\n",
       "\n",
       "    .dataframe tbody tr th {\n",
       "        vertical-align: top;\n",
       "    }\n",
       "\n",
       "    .dataframe thead th {\n",
       "        text-align: right;\n",
       "    }\n",
       "</style>\n",
       "<table border=\"1\" class=\"dataframe\">\n",
       "  <thead>\n",
       "    <tr style=\"text-align: right;\">\n",
       "      <th></th>\n",
       "      <th>id_paciente</th>\n",
       "      <th>idade</th>\n",
       "      <th>sexo</th>\n",
       "      <th>cidade</th>\n",
       "      <th>plano_saude</th>\n",
       "    </tr>\n",
       "  </thead>\n",
       "  <tbody>\n",
       "    <tr>\n",
       "      <th>0</th>\n",
       "      <td>1</td>\n",
       "      <td>21</td>\n",
       "      <td>M</td>\n",
       "      <td>Manaus</td>\n",
       "      <td>Sim</td>\n",
       "    </tr>\n",
       "    <tr>\n",
       "      <th>1</th>\n",
       "      <td>2</td>\n",
       "      <td>15</td>\n",
       "      <td>M</td>\n",
       "      <td>Brasília</td>\n",
       "      <td>Sim</td>\n",
       "    </tr>\n",
       "    <tr>\n",
       "      <th>2</th>\n",
       "      <td>3</td>\n",
       "      <td>86</td>\n",
       "      <td>M</td>\n",
       "      <td>Salvador</td>\n",
       "      <td>Não</td>\n",
       "    </tr>\n",
       "    <tr>\n",
       "      <th>3</th>\n",
       "      <td>4</td>\n",
       "      <td>87</td>\n",
       "      <td>M</td>\n",
       "      <td>Manaus</td>\n",
       "      <td>Sim</td>\n",
       "    </tr>\n",
       "    <tr>\n",
       "      <th>4</th>\n",
       "      <td>5</td>\n",
       "      <td>56</td>\n",
       "      <td>M</td>\n",
       "      <td>Porto Alegre</td>\n",
       "      <td>Não</td>\n",
       "    </tr>\n",
       "  </tbody>\n",
       "</table>\n",
       "</div>"
      ],
      "text/plain": [
       "   id_paciente  idade sexo        cidade plano_saude\n",
       "0            1     21    M        Manaus         Sim\n",
       "1            2     15    M      Brasília         Sim\n",
       "2            3     86    M      Salvador         Não\n",
       "3            4     87    M        Manaus         Sim\n",
       "4            5     56    M  Porto Alegre         Não"
      ]
     },
     "execution_count": 283,
     "metadata": {},
     "output_type": "execute_result"
    }
   ],
   "source": [
    "df_pacientes.head()"
   ]
  },
  {
   "cell_type": "markdown",
   "metadata": {},
   "source": [
    "MÉDICOS"
   ]
  },
  {
   "cell_type": "code",
   "execution_count": 284,
   "metadata": {},
   "outputs": [
    {
     "data": {
      "text/html": [
       "<div>\n",
       "<style scoped>\n",
       "    .dataframe tbody tr th:only-of-type {\n",
       "        vertical-align: middle;\n",
       "    }\n",
       "\n",
       "    .dataframe tbody tr th {\n",
       "        vertical-align: top;\n",
       "    }\n",
       "\n",
       "    .dataframe thead th {\n",
       "        text-align: right;\n",
       "    }\n",
       "</style>\n",
       "<table border=\"1\" class=\"dataframe\">\n",
       "  <thead>\n",
       "    <tr style=\"text-align: right;\">\n",
       "      <th></th>\n",
       "      <th>especialidade</th>\n",
       "      <th>nome</th>\n",
       "    </tr>\n",
       "  </thead>\n",
       "  <tbody>\n",
       "    <tr>\n",
       "      <th>3</th>\n",
       "      <td>Neurologia</td>\n",
       "      <td>9</td>\n",
       "    </tr>\n",
       "    <tr>\n",
       "      <th>1</th>\n",
       "      <td>Dermatologia</td>\n",
       "      <td>10</td>\n",
       "    </tr>\n",
       "    <tr>\n",
       "      <th>2</th>\n",
       "      <td>Ginecologia</td>\n",
       "      <td>17</td>\n",
       "    </tr>\n",
       "    <tr>\n",
       "      <th>0</th>\n",
       "      <td>Cardiologia</td>\n",
       "      <td>21</td>\n",
       "    </tr>\n",
       "    <tr>\n",
       "      <th>5</th>\n",
       "      <td>Pediatria</td>\n",
       "      <td>21</td>\n",
       "    </tr>\n",
       "    <tr>\n",
       "      <th>4</th>\n",
       "      <td>Ortopedia</td>\n",
       "      <td>22</td>\n",
       "    </tr>\n",
       "  </tbody>\n",
       "</table>\n",
       "</div>"
      ],
      "text/plain": [
       "  especialidade  nome\n",
       "3    Neurologia     9\n",
       "1  Dermatologia    10\n",
       "2   Ginecologia    17\n",
       "0   Cardiologia    21\n",
       "5     Pediatria    21\n",
       "4     Ortopedia    22"
      ]
     },
     "execution_count": 284,
     "metadata": {},
     "output_type": "execute_result"
    }
   ],
   "source": [
    "#quantidade de médicos por especialidade\n",
    "df_med_espec = df_medicos.groupby('especialidade')['nome'].count().reset_index()\n",
    "df_med_espec = df_med_espec.sort_values('nome')\n",
    "df_med_espec\n"
   ]
  },
  {
   "cell_type": "code",
   "execution_count": 285,
   "metadata": {},
   "outputs": [
    {
     "name": "stdout",
     "output_type": "stream",
     "text": [
      "MÉDIA = 16.67\n",
      "MEDIANA = 19.00\n",
      "DISTÂNCIA = -0.12\n"
     ]
    }
   ],
   "source": [
    "#ARRAY + MÉDIA, MEDIANA E DISTÂNIA TEMPO DE ATENDIMENTO\n",
    "array_espec = np.array(df_med_espec['nome'])\n",
    "media_espec= np.mean(array_espec)\n",
    "mediana_espec = np.median(array_espec)\n",
    "distancia_espec = (media_espec - mediana_espec)/mediana_espec\n",
    "print(f\"MÉDIA = {media_espec:.2f}\\nMEDIANA = {mediana_espec:.2f}\\nDISTÂNCIA = {distancia_espec:.2f}\")"
   ]
  },
  {
   "cell_type": "code",
   "execution_count": 286,
   "metadata": {},
   "outputs": [
    {
     "name": "stdout",
     "output_type": "stream",
     "text": [
      "Q1=11.75\n",
      "Q2=19.00\n",
      "Q3=21.00\n",
      "IQR (Q3 - Q1): 9.25      \n",
      "Limite Superior: 34.88\n",
      "Limite Inferior: -2.12\n",
      "Mediana: 19.00 \n",
      "Média: 16.67\n"
     ]
    }
   ],
   "source": [
    "#q1, q2, q3, iqr, limite superior e inferior TEMPO DE ATENDIMENTO\n",
    "q1_espec = np.percentile(array_espec,25)\n",
    "q2_espec = np.percentile(array_espec,50)\n",
    "q3_espec = np.percentile(array_espec,75)\n",
    "iqr_espec = q3_espec - q1_espec\n",
    "lim_sup_espec = q3_espec + (1.5*iqr_espec)\n",
    "lim_inf_espec = q1_espec - (1.5*iqr_espec)\n",
    "print(f\"Q1={q1_espec:.2f}\\nQ2={q2_espec:.2f}\\nQ3={q3_espec:.2f}\")\n",
    "print(f\"IQR (Q3 - Q1): {iqr_espec:.2f}\\\n",
    "      \\nLimite Superior: {lim_sup_espec:.2f}\\nLimite Inferior: {lim_inf_espec:.2f}\\nMediana: {mediana_espec:.2f} \\nMédia: {media_espec:.2f}\")"
   ]
  },
  {
   "cell_type": "markdown",
   "metadata": {},
   "source": [
    "CLÍNICAS"
   ]
  }
 ],
 "metadata": {
  "kernelspec": {
   "display_name": "Python 3",
   "language": "python",
   "name": "python3"
  },
  "language_info": {
   "codemirror_mode": {
    "name": "ipython",
    "version": 3
   },
   "file_extension": ".py",
   "mimetype": "text/x-python",
   "name": "python",
   "nbconvert_exporter": "python",
   "pygments_lexer": "ipython3",
   "version": "3.11.4"
  },
  "orig_nbformat": 4
 },
 "nbformat": 4,
 "nbformat_minor": 2
}
